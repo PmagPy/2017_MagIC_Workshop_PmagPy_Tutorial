{
 "cells": [
  {
   "cell_type": "markdown",
   "metadata": {},
   "source": [
    "# PmagPy structure\n",
    "\n",
    "## The GUI programs\n",
    "\n",
    "Some of the common data conversion and analysis functionality of PmagPy is exposed within the GUI programs as we saw yesterday. However, the capabilities of PmagPy extend well beyond what is in the GUIs and can access within the command line programs and as functions that can imported as Python modules.\n",
    "\n",
    "## The command line programs\n",
    "\n",
    "As an example, let's consider a situation where we want to draw random samples from a specified Fisher distribution. This can be done with the command line program **fishrot.py**. We can learn a little bit about fishrot.py in the [PmagPy Cookbook](https://earthref.org/PmagPy/cookbook/#x1-1050005.2.43). The command line programs take flags. Type this command at the terminal to learn about them: \n",
    "\n",
    "```\n",
    "fishrot.py -h\n",
    "```\n",
    "\n",
    "For example, if we want to sample 10 directions from a Fisher distribution with a mean declination of 45, a mean inclination of 30 and a kappa of 20, we would use this command in terminal:\n",
    "\n",
    "```\n",
    "fishrot.py -k 20 -n 10 -D 45 -I 30\n",
    "```\n",
    "\n",
    "Let's look at the code of fishrot.py on Github: https://github.com/PmagPy/PmagPy/blob/master/programs/fishrot.py\n",
    "\n",
    "We can see within the program that the program uses two functions within pmag.py (```pmag.fshdev``` and ```pmag.dodirot```). Let's look at the source of these functions which is taken from pmag.py into the code cell below:"
   ]
  },
  {
   "cell_type": "code",
   "execution_count": null,
   "metadata": {
    "collapsed": true
   },
   "outputs": [],
   "source": [
    "def fshdev(k):\n",
    "    \"\"\"\n",
    "    Generate a random draw from a Fisher distribution with mean declination \n",
    "    of 0 and inclination of 90 with a specified kappa.\n",
    "\n",
    "    Parameters\n",
    "    ----------\n",
    "    k : kappa (precision parameter) of the distribution\n",
    "\n",
    "    Returns\n",
    "    ----------\n",
    "    dec, inc : declination and inclination of random Fisher distribution draw\n",
    "    \"\"\"\n",
    "    R1=random.random()\n",
    "    R2=random.random()\n",
    "    L=numpy.exp(-2*k)\n",
    "    a=R1*(1-L)+L\n",
    "    fac=numpy.sqrt((-numpy.log(a))/(2*k))\n",
    "    inc=90.-2*numpy.arcsin(fac)*180./numpy.pi\n",
    "    dec=2*numpy.pi*R2*180./numpy.pi\n",
    "    return dec,inc\n",
    "\n",
    "def dodirot(D,I,Dbar,Ibar):\n",
    "    \"\"\"\n",
    "    Rotate a declination/inclination pair by the difference between dec=0 and\n",
    "    inc = 90 and the provided desired mean direction\n",
    "\n",
    "    Parameters\n",
    "    ----------\n",
    "    D : declination to be rotated\n",
    "    I : inclination to be rotated\n",
    "    Dbar : declination of desired mean\n",
    "    Ibar : inclination of desired mean\n",
    "\n",
    "    Returns\n",
    "    ----------\n",
    "    drot, irot : rotated declination and inclination\n",
    "    \"\"\"\n",
    "    d,irot=dogeo(D,I,Dbar,90.-Ibar)\n",
    "    drot=d-180.\n",
    "    if drot<360.:drot=drot+360.\n",
    "    if drot>360.:drot=drot-360.\n",
    "    return drot,irot"
   ]
  },
  {
   "cell_type": "markdown",
   "metadata": {},
   "source": [
    "# Using functions in the notebook\n",
    "\n",
    "To use functions in the notebook we can import PmagPy function modules as in the code cell below."
   ]
  },
  {
   "cell_type": "code",
   "execution_count": 2,
   "metadata": {
    "collapsed": true
   },
   "outputs": [],
   "source": [
    "import pmagpy.pmag as pmag\n",
    "import pmagpy.ipmag as ipmag\n",
    "import matplotlib.pyplot as plt"
   ]
  },
  {
   "cell_type": "markdown",
   "metadata": {},
   "source": [
    "Putting a question mark after a function results in the docstring being displayed."
   ]
  },
  {
   "cell_type": "code",
   "execution_count": 31,
   "metadata": {
    "collapsed": false
   },
   "outputs": [],
   "source": [
    "ipmag.fishrot?"
   ]
  },
  {
   "cell_type": "markdown",
   "metadata": {},
   "source": [
    "Putting two questions marks displays the docstring and the source code."
   ]
  },
  {
   "cell_type": "code",
   "execution_count": 32,
   "metadata": {
    "collapsed": true
   },
   "outputs": [],
   "source": [
    "ipmag.fishrot??"
   ]
  },
  {
   "cell_type": "markdown",
   "metadata": {},
   "source": [
    "The docstring helps guide us to know what parameters to put into the function. Here let's take 10 samples from a distribution with mean of dec=45, inc= 30 and kappa precision parameter of 20. If simply call the function it will print to the console as in the code cell below. In the code cell below that, we assign the variable to be this this block of declination/inclination values which we call a di_block."
   ]
  },
  {
   "cell_type": "code",
   "execution_count": 33,
   "metadata": {
    "collapsed": false
   },
   "outputs": [
    {
     "data": {
      "text/plain": [
       "[[63.688370214666918, 35.041591921411012, 1.0],\n",
       " [31.571040925542491, 32.646057096172889, 1.0],\n",
       " [91.5219059822453, 57.956999599560447, 1.0],\n",
       " [30.366513505215835, 22.656556281861835, 1.0],\n",
       " [40.459580358880714, 26.680525474471548, 1.0],\n",
       " [53.965379838955528, 46.474782733409604, 1.0],\n",
       " [40.892951716418338, 7.2791730112607711, 1.0],\n",
       " [46.41554657606946, 48.619231171824524, 1.0],\n",
       " [37.890996998686092, 34.14567615577505, 1.0],\n",
       " [41.851541181396328, 36.956431472866662, 1.0]]"
      ]
     },
     "execution_count": 33,
     "metadata": {},
     "output_type": "execute_result"
    }
   ],
   "source": [
    "ipmag.fishrot(k=20, n=10, dec=45, inc=30)"
   ]
  },
  {
   "cell_type": "code",
   "execution_count": 35,
   "metadata": {
    "collapsed": true
   },
   "outputs": [],
   "source": [
    "directions = ipmag.fishrot(k=20, n=10, dec=45, inc=30)"
   ]
  },
  {
   "cell_type": "markdown",
   "metadata": {},
   "source": [
    "Now let's say we want to plot these directions. Let's use the ipmag.plot_di function to do so. We can learn about that function by putting questions marks after it. Shift+tab also displays such information about a function."
   ]
  },
  {
   "cell_type": "code",
   "execution_count": 40,
   "metadata": {
    "collapsed": false
   },
   "outputs": [],
   "source": [
    "ipmag.plot_di?"
   ]
  },
  {
   "cell_type": "markdown",
   "metadata": {},
   "source": [
    "Following the instructions in the documentation string, let's make a plot and plot the directions."
   ]
  },
  {
   "cell_type": "code",
   "execution_count": 41,
   "metadata": {
    "collapsed": false
   },
   "outputs": [
    {
     "data": {
      "image/png": "[encoded data removed]",
      "text/plain": [
       "<matplotlib.figure.Figure at 0x10a26f690>"
      ]
     },
     "metadata": {},
     "output_type": "display_data"
    }
   ],
   "source": [
    "fignum = 1\n",
    "plt.figure(num=fignum,figsize=(4,4),dpi=160)\n",
    "ipmag.plot_net(fignum)\n",
    "ipmag.plot_di(di_block=directions)\n",
    "plt.show()"
   ]
  },
  {
   "cell_type": "markdown",
   "metadata": {},
   "source": [
    "Let's get more directions and then take their mean. We can calculate the mean using the function **ipmag.fisher_mean**. That function returns a handy python data structure called a dictionary."
   ]
  },
  {
   "cell_type": "code",
   "execution_count": 42,
   "metadata": {
    "collapsed": false
   },
   "outputs": [
    {
     "name": "stdout",
     "output_type": "stream",
     "text": [
      "{'csd': 11.342862244290211, 'k': 50.99466255445428, 'n': 100, 'r': 98.058620352781361, 'alpha95': 1.9984790894154012, 'dec': 46.718770158156758, 'inc': 30.612149531100805}\n"
     ]
    }
   ],
   "source": [
    "lots_of_directions = ipmag.fishrot(k=50, n=100, dec=45, inc=30)\n",
    "mean = ipmag.fisher_mean(di_block=lots_of_directions)\n",
    "print(mean)"
   ]
  },
  {
   "cell_type": "markdown",
   "metadata": {},
   "source": [
    "If I wanted to just access one element in the dictionary, say the declination ('dec'), I would do it like this:"
   ]
  },
  {
   "cell_type": "code",
   "execution_count": 44,
   "metadata": {
    "collapsed": false
   },
   "outputs": [
    {
     "data": {
      "text/plain": [
       "46.718770158156758"
      ]
     },
     "execution_count": 44,
     "metadata": {},
     "output_type": "execute_result"
    }
   ],
   "source": [
    "mean['dec']"
   ]
  },
  {
   "cell_type": "markdown",
   "metadata": {},
   "source": [
    "Let's plot both the directions (using ipmag.plot_di) and the mean (using ipmag.plot_di_mean)."
   ]
  },
  {
   "cell_type": "code",
   "execution_count": 45,
   "metadata": {
    "collapsed": false
   },
   "outputs": [
    {
     "data": {
      "image/png": "[encoded data removed]",
      "text/plain": [
       "<matplotlib.figure.Figure at 0x1161db9d0>"
      ]
     },
     "metadata": {},
     "output_type": "display_data"
    }
   ],
   "source": [
    "fignum = 1\n",
    "plt.figure(num=fignum,figsize=(4,4),dpi=160)\n",
    "ipmag.plot_net(fignum)\n",
    "ipmag.plot_di(di_block=lots_of_directions)\n",
    "ipmag.plot_di_mean(mean['dec'],mean['inc'],mean['alpha95'],color='r')\n",
    "plt.show()"
   ]
  },
  {
   "cell_type": "code",
   "execution_count": null,
   "metadata": {
    "collapsed": true
   },
   "outputs": [],
   "source": []
  }
 ],
 "metadata": {
  "anaconda-cloud": {},
  "kernelspec": {
   "display_name": "Python 2",
   "language": "python",
   "name": "python2"
  },
  "language_info": {
   "codemirror_mode": {
    "name": "ipython",
    "version": 2
   },
   "file_extension": ".py",
   "mimetype": "text/x-python",
   "name": "python",
   "nbconvert_exporter": "python",
   "pygments_lexer": "ipython2",
   "version": "2.7.12"
  },
  "nav_menu": {},
  "toc": {
   "navigate_menu": true,
   "number_sections": false,
   "sideBar": true,
   "threshold": 6,
   "toc_cell": false,
   "toc_section_display": "block",
   "toc_window_display": true
  }
 },
 "nbformat": 4,
 "nbformat_minor": 1
}
