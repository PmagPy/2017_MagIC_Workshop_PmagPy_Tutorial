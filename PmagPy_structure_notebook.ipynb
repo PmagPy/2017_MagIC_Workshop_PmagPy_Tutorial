{
 "cells": [
  {
   "cell_type": "markdown",
   "metadata": {},
   "source": [
    "# PmagPy structure\n",
    "\n",
    "The PmagPy \n",
    "\n",
    "https://github.com/PmagPy/PmagPy/blob/master/CONTRIBUTING.md\n",
    "\n"
   ]
  },
  {
   "cell_type": "code",
   "execution_count": null,
   "metadata": {
    "collapsed": true
   },
   "outputs": [],
   "source": []
  },
  {
   "cell_type": "markdown",
   "metadata": {},
   "source": [
    "# The command line programs\n",
    "\n",
    "As an example, let's consider that we want to draw 10 random samples from a specified Fisher distribution. This can be done with the command line program **fishrot.py**. The command line programs takes flags. For example, if we want to sample 10 directions from a Fisher distribution with a mean declination of 45, a mean inclination of 30 and a kappa of 20, we would use this command in terminal:\n",
    "\n",
    "```\n",
    "fishrot.py -k 20 -n 10 -D 45 -I 30\n",
    "```\n",
    "\n",
    "Let's look at the code of fishrot.py on Github: https://github.com/PmagPy/PmagPy/blob/master/programs/fishrot.py\n",
    "\n",
    "We can see within the program that the program uses two function within pmag.py (```pmag.fshdev``` and ```pmag.dodirot```). Let's look at their source which is taken from pmag.py into the code cell below:"
   ]
  },
  {
   "cell_type": "code",
   "execution_count": null,
   "metadata": {
    "collapsed": true
   },
   "outputs": [],
   "source": [
    "def fshdev(k):\n",
    "    \"\"\"\n",
    "    a call to fshdev(k), where k is kappa, returns a direction from distribution with mean declination of 0, inclination of 90 and kappa of k\n",
    "    \"\"\"\n",
    "    R1=random.random()\n",
    "    R2=random.random()\n",
    "    L=numpy.exp(-2*k)\n",
    "    a=R1*(1-L)+L\n",
    "    fac=numpy.sqrt((-numpy.log(a))/(2*k))\n",
    "    inc=90.-2*numpy.arcsin(fac)*180./numpy.pi\n",
    "    dec=2*numpy.pi*R2*180./numpy.pi\n",
    "    return dec,inc\n",
    "\n",
    "def dodirot(D,I,Dbar,Ibar):\n",
    "    \"\"\"\n",
    "    This function is called by dodirot(D,I,Dbar,Ibar) where D=declination, I = inclination and Dbar/Ibar are the desired mean direction.  It returns the rotated Dec/Inc pair.\n",
    "    \"\"\"\n",
    "    d,irot=dogeo(D,I,Dbar,90.-Ibar)\n",
    "    drot=d-180.\n",
    "#    drot,irot=dogeo(D,I,Dbar,Ibar)\n",
    "    if drot<360.:drot=drot+360.\n",
    "    if drot>360.:drot=drot-360.\n",
    "    return drot,irot"
   ]
  },
  {
   "cell_type": "markdown",
   "metadata": {},
   "source": [
    "# Using functions in the notebook"
   ]
  },
  {
   "cell_type": "code",
   "execution_count": 8,
   "metadata": {
    "collapsed": true
   },
   "outputs": [],
   "source": [
    "import pmagpy.pmag as pmag\n",
    "import pmagpy.ipmag as ipmag\n",
    "import matplotlib.pyplot as plt"
   ]
  },
  {
   "cell_type": "code",
   "execution_count": 9,
   "metadata": {
    "collapsed": false
   },
   "outputs": [],
   "source": [
    "ipmag.fishrot?"
   ]
  },
  {
   "cell_type": "code",
   "execution_count": 10,
   "metadata": {
    "collapsed": false
   },
   "outputs": [
    {
     "data": {
      "text/plain": [
       "[[17.884299251510072, 36.799430837153984, 1.0],\n",
       " [58.916557218535104, 41.942779201162097, 1.0],\n",
       " [50.15695695379361, 31.266934379799643, 1.0],\n",
       " [27.649751517551579, 24.06927919516896, 1.0],\n",
       " [47.743551424320685, 33.330184057400793, 1.0],\n",
       " [73.581562433863326, 50.127783789372863, 1.0],\n",
       " [54.34732933992052, 28.685710344921624, 1.0],\n",
       " [60.194424287930644, 18.826568539135991, 1.0],\n",
       " [18.976763276743043, 27.925678514295143, 1.0],\n",
       " [31.802728213564535, 25.397918944183424, 1.0]]"
      ]
     },
     "execution_count": 10,
     "metadata": {},
     "output_type": "execute_result"
    }
   ],
   "source": [
    "ipmag.fishrot(k=20, n=10, dec=45, inc=30)"
   ]
  },
  {
   "cell_type": "code",
   "execution_count": 11,
   "metadata": {
    "collapsed": true
   },
   "outputs": [],
   "source": [
    "directions = ipmag.fishrot(k=20, n=10, dec=45, inc=30)"
   ]
  },
  {
   "cell_type": "code",
   "execution_count": 16,
   "metadata": {
    "collapsed": true
   },
   "outputs": [],
   "source": [
    "ipmag.plot_di?"
   ]
  },
  {
   "cell_type": "code",
   "execution_count": 15,
   "metadata": {
    "collapsed": false
   },
   "outputs": [
    {
     "data": {
      "image/png": "[encoded data removed]",
      "text/plain": [
       "<matplotlib.figure.Figure at 0x117a436d0>"
      ]
     },
     "metadata": {},
     "output_type": "display_data"
    }
   ],
   "source": [
    "fignum = 1\n",
    "plt.figure(num=fignum,figsize=(5,5),dpi=160)\n",
    "ipmag.plot_net(fignum)\n",
    "ipmag.plot_di(di_block=directions)\n",
    "plt.show()"
   ]
  },
  {
   "cell_type": "code",
   "execution_count": null,
   "metadata": {
    "collapsed": true
   },
   "outputs": [],
   "source": []
  }
 ],
 "metadata": {
  "anaconda-cloud": {},
  "kernelspec": {
   "display_name": "Python 2",
   "language": "python",
   "name": "python2"
  },
  "language_info": {
   "codemirror_mode": {
    "name": "ipython",
    "version": 2
   },
   "file_extension": ".py",
   "mimetype": "text/x-python",
   "name": "python",
   "nbconvert_exporter": "python",
   "pygments_lexer": "ipython2",
   "version": "2.7.12"
  },
  "nav_menu": {},
  "toc": {
   "navigate_menu": true,
   "number_sections": false,
   "sideBar": true,
   "threshold": 6,
   "toc_cell": false,
   "toc_section_display": "block",
   "toc_window_display": true
  }
 },
 "nbformat": 4,
 "nbformat_minor": 1
}
