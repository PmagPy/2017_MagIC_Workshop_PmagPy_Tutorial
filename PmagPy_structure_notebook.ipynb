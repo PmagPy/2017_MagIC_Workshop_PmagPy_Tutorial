{
 "cells": [
  {
   "cell_type": "markdown",
   "metadata": {},
   "source": [
    "# PmagPy structure\n",
    "\n",
    "The PmagPy \n",
    "\n",
    "https://github.com/PmagPy/PmagPy/blob/master/CONTRIBUTING.md\n",
    "\n"
   ]
  },
  {
   "cell_type": "code",
   "execution_count": null,
   "metadata": {
    "collapsed": true
   },
   "outputs": [],
   "source": []
  },
  {
   "cell_type": "markdown",
   "metadata": {},
   "source": [
    "# The command line programs\n",
    "\n",
    "As an example, let's consider that we want to draw 10 random samples from a specified Fisher distribution. This can be done with the command line program **fishrot.py**. The command line programs takes flags\n",
    "\n",
    "\n"
   ]
  },
  {
   "cell_type": "code",
   "execution_count": 8,
   "metadata": {
    "collapsed": false
   },
   "outputs": [
    {
     "name": "stdout",
     "output_type": "stream",
     "text": [
      "  File \"/Users/Laurentia/PmagPy/programs/fishrot.py\", line 33\r\n",
      "    print main.__doc__\r\n",
      "             ^\r\n",
      "SyntaxError: Missing parentheses in call to 'print'\r\n"
     ]
    }
   ],
   "source": [
    "!fishrot.py -h"
   ]
  },
  {
   "cell_type": "code",
   "execution_count": 2,
   "metadata": {
    "collapsed": true
   },
   "outputs": [],
   "source": [
    "import pmagpy.pmag as pmag\n",
    "import pmagpy.ipmag as ipmag"
   ]
  },
  {
   "cell_type": "code",
   "execution_count": 3,
   "metadata": {
    "collapsed": true
   },
   "outputs": [],
   "source": [
    "ipmag.fishrot?"
   ]
  },
  {
   "cell_type": "code",
   "execution_count": 6,
   "metadata": {
    "collapsed": false
   },
   "outputs": [
    {
     "data": {
      "text/plain": [
       "[[84.636956046144519, 30.741763200979346, 1.0],\n",
       " [56.252071804556181, 23.226205155587284, 1.0],\n",
       " [34.258457866266212, 37.769019005646747, 1.0],\n",
       " [354.7152969919066, 11.332353188782553, 1.0],\n",
       " [37.233840439804169, 34.53863604946347, 1.0],\n",
       " [9.5897109759770274, 28.054754222707324, 1.0],\n",
       " [56.579679066090989, 34.862547913028962, 1.0],\n",
       " [64.864200780476608, 18.395623635441474, 1.0],\n",
       " [16.841290506360508, 31.546095984821939, 1.0],\n",
       " [27.911824649842742, 42.544129175383027, 1.0]]"
      ]
     },
     "execution_count": 6,
     "metadata": {},
     "output_type": "execute_result"
    }
   ],
   "source": [
    "ipmag.fishrot(k=20, n=10, dec=45, inc=30)"
   ]
  },
  {
   "cell_type": "code",
   "execution_count": null,
   "metadata": {
    "collapsed": true
   },
   "outputs": [],
   "source": []
  }
 ],
 "metadata": {
  "kernelspec": {
   "display_name": "Python 2",
   "language": "python",
   "name": "python2"
  },
  "language_info": {
   "codemirror_mode": {
    "name": "ipython",
    "version": 2
   },
   "file_extension": ".py",
   "mimetype": "text/x-python",
   "name": "python",
   "nbconvert_exporter": "python",
   "pygments_lexer": "ipython2",
   "version": "2.7.12"
  },
  "nav_menu": {},
  "toc": {
   "navigate_menu": true,
   "number_sections": false,
   "sideBar": true,
   "threshold": 6,
   "toc_cell": false,
   "toc_section_display": "block",
   "toc_window_display": true
  }
 },
 "nbformat": 4,
 "nbformat_minor": 1
}
