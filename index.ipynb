{
 "cells": [
  {
   "cell_type": "markdown",
   "metadata": {},
   "source": [
    "# Everything PmagPy day\n",
    "\n",
    "Information on installation of PmagPy can be found in the [PmagPy cookbook](https://earthref.org/PmagPy/cookbook/) and PmagPy itself can be found in the [PmagPy organization Github repository](https://github.com/PmagPy).\n",
    "\n",
    "For the first part of Everything PmagPy day we are going to work through some notebooks associated with the PmagPy project.\n",
    "\n",
    "- [Introduction to Jupyter notebooks](Jupyter_notebook_introduction.ipynb)\n",
    "\n",
    "- [PmagPy Structure notebook](PmagPy_structure_notebook.ipynb)\n",
    "\n",
    "- [PmagPy example notebook 1 (Tauxe et al. 2016)](Additional_PmagPy_Examples.ipynb)\n",
    "\n",
    "- [PmagPy example notebook 2 (Tauxe et al. 2016)](Example_PmagPy_Notebook.ipynb)\n",
    "\n",
    "\n",
    "# Citing PmagPy \n",
    "\n",
    "Users of PmagPy should cite this open access article:\n",
    "\n",
    "[Tauxe, L., R. Shaar, L. Jonestrask, N. L. Swanson-Hysell, R. Minnett, A. A. P. Koppers, C. G. Constable, N. Jarboe, K. Gaastra, and L. Fairchild (2016), PmagPy: Software package for paleomagnetic data analysis and a bridge to the Magnetics Information Consortium (MagIC) Database, Geochem. Geophys. Geosyst., 17, doi:10.1002/2016GC006307.](http://dx.doi.org/10.1002/2016GC006307)\n",
    "\n",
    "# Other resources\n",
    "\n",
    "Essentials of Paleomagnetism:\n",
    "https://earthref.org/MagIC/books/Tauxe/Essentials/WebBook3ch1.html\n",
    "\n",
    "Has notebooks associated with the problem sets:\n",
    "https://github.com/ltauxe/Essentials_Notebooks\n",
    "\n",
    "A guide to contributing to PmagPy is provided here:\n",
    "https://github.com/PmagPy/PmagPy/blob/master/CONTRIBUTING.md"
   ]
  }
 ],
 "metadata": {
  "anaconda-cloud": {},
  "kernelspec": {
   "display_name": "Python 2",
   "language": "python",
   "name": "python2"
  },
  "language_info": {
   "codemirror_mode": {
    "name": "ipython",
    "version": 2
   },
   "file_extension": ".py",
   "mimetype": "text/x-python",
   "name": "python",
   "nbconvert_exporter": "python",
   "pygments_lexer": "ipython2",
   "version": "2.7.12"
  },
  "nav_menu": {},
  "toc": {
   "navigate_menu": true,
   "number_sections": false,
   "sideBar": true,
   "threshold": 6,
   "toc_cell": false,
   "toc_section_display": "block",
   "toc_window_display": true
  }
 },
 "nbformat": 4,
 "nbformat_minor": 1
}
